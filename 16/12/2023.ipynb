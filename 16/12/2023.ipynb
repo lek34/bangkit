{
  "nbformat": 4,
  "nbformat_minor": 0,
  "metadata": {
    "colab": {
      "provenance": [],
      "authorship_tag": "ABX9TyMMb7SiUBRQJCTrLH5dODbl",
      "include_colab_link": true
    },
    "kernelspec": {
      "name": "python3",
      "display_name": "Python 3"
    },
    "language_info": {
      "name": "python"
    }
  },
  "cells": [
    {
      "cell_type": "markdown",
      "metadata": {
        "id": "view-in-github",
        "colab_type": "text"
      },
      "source": [
        "<a href=\"https://colab.research.google.com/github/lek34/bangkit/blob/main/16/12/2023.ipynb\" target=\"_parent\"><img src=\"https://colab.research.google.com/assets/colab-badge.svg\" alt=\"Open In Colab\"/></a>"
      ]
    },
    {
      "cell_type": "code",
      "execution_count": null,
      "metadata": {
        "colab": {
          "base_uri": "https://localhost:8080/"
        },
        "id": "WYO8l0NLEXDI",
        "outputId": "8c241a7c-4e43-4716-9831-98e311283b59"
      },
      "outputs": [
        {
          "output_type": "stream",
          "name": "stdout",
          "text": [
            "Collecting tflite_runtime\n",
            "  Downloading tflite_runtime-2.14.0-cp310-cp310-manylinux2014_x86_64.whl (2.4 MB)\n",
            "\u001b[2K     \u001b[90m━━━━━━━━━━━━━━━━━━━━━━━━━━━━━━━━━━━━━━━━\u001b[0m \u001b[32m2.4/2.4 MB\u001b[0m \u001b[31m8.6 MB/s\u001b[0m eta \u001b[36m0:00:00\u001b[0m\n",
            "\u001b[?25hRequirement already satisfied: numpy>=1.23.2 in /usr/local/lib/python3.10/dist-packages (from tflite_runtime) (1.23.5)\n",
            "Installing collected packages: tflite_runtime\n",
            "Successfully installed tflite_runtime-2.14.0\n"
          ]
        }
      ],
      "source": [
        "!pip install tflite_runtime"
      ]
    },
    {
      "cell_type": "code",
      "source": [
        "import numpy as np\n",
        "import tensorflow as tf\n",
        "\n",
        "# Load TFLite model\n",
        "model_path = \"model.tflite\"\n",
        "interpreter = tf.lite.Interpreter(model_path=model_path)\n",
        "interpreter.allocate_tensors()\n",
        "\n",
        "# Get input and output tensors\n",
        "input_tensor_index = interpreter.get_input_details()[0]['index']\n",
        "output = interpreter.tensor(interpreter.get_output_details()[0]['index'])\n",
        "\n",
        "# Prepare input data (replace this with your input data)\n",
        "input_data = np.random.rand(*interpreter.get_input_details()[0]['shape']).astype(np.float32)\n",
        "interpreter.set_tensor(input_tensor_index, input_data)\n",
        "\n",
        "# Run inference\n",
        "interpreter.invoke()\n",
        "\n",
        "# Get the output tensor\n",
        "output_data = output()[0]\n"
      ],
      "metadata": {
        "id": "BCYUythBEhzU"
      },
      "execution_count": null,
      "outputs": []
    },
    {
      "cell_type": "code",
      "source": [
        "print(\"Output Tensor:\", output_data)\n"
      ],
      "metadata": {
        "colab": {
          "base_uri": "https://localhost:8080/"
        },
        "id": "sH5MyPBbFCDM",
        "outputId": "ddb95df0-9368-46af-817e-5d374e2ad1e3"
      },
      "execution_count": null,
      "outputs": [
        {
          "output_type": "stream",
          "name": "stdout",
          "text": [
            "Output Tensor: [[4.36293110e-02 4.12679315e-02 4.57673185e-02 ... 7.67981112e-01\n",
            "  8.18165481e-01 8.56231332e-01]\n",
            " [4.55635190e-02 3.35974842e-02 2.14900337e-02 ... 8.92107189e-01\n",
            "  8.99959087e-01 8.88074756e-01]\n",
            " [8.71858895e-02 8.23890865e-02 9.18060839e-02 ... 4.56764191e-01\n",
            "  3.62113267e-01 2.90240109e-01]\n",
            " ...\n",
            " [9.26519760e-07 2.29496607e-07 1.01241710e-07 ... 6.75732338e-07\n",
            "  2.48446213e-07 4.90507716e-07]\n",
            " [5.04653940e-07 3.47826784e-07 3.99155880e-07 ... 1.18322482e-07\n",
            "  5.43479217e-08 1.40120676e-07]\n",
            " [1.06468906e-06 8.71030068e-07 6.90741103e-07 ... 3.68514219e-09\n",
            "  1.96008942e-09 1.17302035e-08]]\n"
          ]
        }
      ]
    },
    {
      "cell_type": "code",
      "source": [
        "import cv2\n",
        "import numpy as np\n",
        "import tensorflow as tf\n",
        "\n",
        "# Load the TFLite model and allocate tensors\n",
        "model_path = \"model.tflite\"\n",
        "interpreter = tf.lite.Interpreter(model_path=model_path)\n",
        "interpreter.allocate_tensors()\n",
        "\n",
        "# Get input and output tensors\n",
        "input_details = interpreter.get_input_details()\n",
        "output_details = interpreter.get_output_details()\n",
        "\n",
        "# Load and preprocess the image (replace \"path/to/your/image.jpg\" with the actual image path)\n",
        "image_path = \"image.jpeg\"\n",
        "image = cv2.imread(image_path)\n",
        "image = cv2.cvtColor(image, cv2.COLOR_BGR2RGB)\n",
        "image = cv2.resize(image, (input_details[0]['shape'][2], input_details[0]['shape'][1]))\n",
        "input_data = np.expand_dims(image, axis=0)\n",
        "\n",
        "# Convert image data to FLOAT32 and normalize if needed\n",
        "input_data = image.astype(np.float32) / 255.0  # Normalize to [0, 1]\n",
        "input_data = np.expand_dims(input_data, axis=0)\n",
        "\n",
        "# Set the input tensor values\n",
        "interpreter.set_tensor(input_details[0]['index'], input_data)\n",
        "\n",
        "# Run inference\n",
        "interpreter.invoke()\n",
        "\n",
        "# Print details of available output tensors\n",
        "print(\"Available output tensors:\")\n",
        "for i, output in enumerate(output_details):\n",
        "    print(f\"Index {i}: {output}\")\n",
        "\n",
        "# Get the output results\n",
        "boxes = interpreter.get_tensor(output_details[0]['index'])\n",
        "\n",
        "# Check if there is an output tensor at index 1 before attempting to get it\n",
        "if len(output_details) > 1:\n",
        "    classes = interpreter.get_tensor(output_details[1]['index'])\n",
        "else:\n",
        "    classes = None\n",
        "\n",
        "# Check if there is an output tensor at index 2 before attempting to get it\n",
        "if len(output_details) > 2:\n",
        "    scores = interpreter.get_tensor(output_details[2]['index'])\n",
        "else:\n",
        "    scores = None\n",
        "\n",
        "\n",
        "\n",
        "# Print the output tensors\n",
        "print(\"Boxes:\")\n",
        "print(boxes)\n",
        "print(\"\\nClasses:\")\n",
        "print(classes)\n",
        "print(\"\\nScores:\")\n",
        "print(scores)"
      ],
      "metadata": {
        "colab": {
          "base_uri": "https://localhost:8080/"
        },
        "id": "DbQ6j1Ai4fKy",
        "outputId": "f8077979-8e6f-4762-9fff-0f4a9ae23bad"
      },
      "execution_count": null,
      "outputs": [
        {
          "output_type": "stream",
          "name": "stdout",
          "text": [
            "Available output tensors:\n",
            "Index 0: {'name': 'PartitionedCall:0', 'index': 410, 'shape': array([   1,   33, 4725], dtype=int32), 'shape_signature': array([   1,   33, 4725], dtype=int32), 'dtype': <class 'numpy.float32'>, 'quantization': (0.0, 0), 'quantization_parameters': {'scales': array([], dtype=float32), 'zero_points': array([], dtype=int32), 'quantized_dimension': 0}, 'sparsity_parameters': {}}\n",
            "Boxes:\n",
            "[[[7.03084990e-02 6.02627546e-02 6.69849440e-02 ... 6.37326360e-01\n",
            "   7.58327007e-01 7.80869722e-01]\n",
            "  [4.34698351e-02 2.81874593e-02 2.99582742e-02 ... 7.89674044e-01\n",
            "   7.92282760e-01 7.91524649e-01]\n",
            "  [1.43459365e-01 1.21260583e-01 1.34331167e-01 ... 7.20224857e-01\n",
            "   4.81445968e-01 4.42142963e-01]\n",
            "  ...\n",
            "  [1.90081821e-07 1.07174316e-07 5.37379066e-08 ... 5.37157732e-08\n",
            "   1.79851426e-07 1.34357413e-06]\n",
            "  [2.48093581e-08 1.58361591e-08 1.97808792e-08 ... 1.28404420e-09\n",
            "   2.11643303e-09 4.08398755e-08]\n",
            "  [7.43139879e-08 4.67112855e-08 4.43791492e-08 ... 7.85369603e-10\n",
            "   8.40835124e-10 1.25618635e-08]]]\n",
            "\n",
            "Classes:\n",
            "None\n",
            "\n",
            "Scores:\n",
            "None\n"
          ]
        }
      ]
    }
  ]
}